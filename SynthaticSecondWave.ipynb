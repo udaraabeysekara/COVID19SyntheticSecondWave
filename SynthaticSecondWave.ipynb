{
 "cells": [
  {
   "cell_type": "code",
   "execution_count": 12,
   "metadata": {},
   "outputs": [],
   "source": [
    "import numpy as np\n",
    "from matplotlib import pyplot as plt\n",
    "import pandas as pd\n",
    "from scipy import stats\n",
    "from scipy.signal import find_peaks\n",
    "from scipy.optimize import curve_fit\n",
    "\n",
    "import sys\n",
    "sys.path.insert(1, '/Users/u0979082/Documents/COVID19Research/ModelValidation')\n",
    "import datamanager as DM\n",
    "import model as Model\n",
    "import templatetable as TTable\n",
    "\n",
    "def log_parabola(x,xo,alpha,beta):\n",
    "    return (x/xo)**(-alpha-beta*np.log(x/xo))\n",
    "\n",
    "def moving_average(a, n=7) :\n",
    "    ret = np.cumsum(a, dtype=float)\n",
    "    ret[n:] = ret[n:] - ret[:-n]\n",
    "    return ret[n - 1:] / n\n",
    "\n",
    "def last_n_avg(a,n):\n",
    "    ret_a = np.cumsum(a, dtype=float)\n",
    "    ret_b = ret_a[:-n]\n",
    "    ret_b = np.insert(ret_b, 0, 0., axis=0)\n",
    "    return (ret_a[n-1:]-ret_b)/n\n",
    "\n",
    "#Exponential Moving Average (EMA) \n",
    "def EMA(a,n,alpha):\n",
    "    EMA_a = list(a[:n-1])\n",
    "    for index, item in enumerate(a[n-1:]):\n",
    "        k = float(alpha)/(n+1.0)\n",
    "        EMA_a.append(item*k + EMA_a[-1]*(1-k))\n",
    "    return EMA_a\n",
    "\n",
    "def derivatives(x):\n",
    "    differential_back = []\n",
    "    differential_around = []\n",
    "    for i in range(1,len(x)):\n",
    "        differential_back.append(x[i]-x[i-1])\n",
    "    for i in range(1,len(x)-1):\n",
    "        diff_1 = x[i]-x[i-1]\n",
    "        diff_2 = x[i+1]-x[i]\n",
    "        differential_around.append((diff_1+diff_2)/2.0)\n",
    "    return differential_back,differential_around"
   ]
  },
  {
   "cell_type": "code",
   "execution_count": 13,
   "metadata": {},
   "outputs": [],
   "source": [
    "Country_Data = DM.Data_Manager('/Users/u0979082/Documents/COVID19Research/Evan_Dataset_Code_scrubbed/COVID19_country_04-24-2020.csv')\n",
    "Country_Data.Set_Min_Confirmed(1)\n",
    "country_list = Country_Data.Get_Available_Countries()\n",
    "df = pd.DataFrame(columns = ['Country_Region','time','count'])"
   ]
  },
  {
   "cell_type": "code",
   "execution_count": 14,
   "metadata": {},
   "outputs": [],
   "source": [
    "for country in country_list:\n",
    "    Country_Data.Set_Country(country)\n",
    "    state_list = Country_Data.Get_Province_State()\n",
    "    for state in state_list:\n",
    "        Country_Data.Set_Province_State(state)\n",
    "        Total_Conf_Time, Total_Conf_Count = Country_Data.Get_Total_Confirm()\n",
    "        if len(Total_Conf_Count) > 10:        \n",
    "            Dt = (Total_Conf_Time - Total_Conf_Time[0])/(60.0*60.0*24.0)/1000000000\n",
    "            df = df.append({'Country_Region' : country+'_'+state , 'time' : Dt,'count': Total_Conf_Count} , ignore_index=True)"
   ]
  },
  {
   "cell_type": "code",
   "execution_count": 15,
   "metadata": {},
   "outputs": [
    {
     "data": {
      "text/plain": [
       "array(['Austria_NA', 'Belgium_NA', 'France_NA', 'France_French Guiana',\n",
       "       'France_French Polynesia', 'France_Guadeloupe',\n",
       "       'France_Martinique', 'France_Mayotte', 'France_New Caledonia',\n",
       "       'France_Reunion', 'France_Saint Barthelemy',\n",
       "       'France_Saint Pierre and Miquelon', 'France_St Martin',\n",
       "       'Germany_NA', 'Greece_NA', 'Israel_NA', 'Italy_NA',\n",
       "       'Netherlands_NA', 'Netherlands_Aruba',\n",
       "       'Netherlands_Bonaire, Sint Eustatius and Saba',\n",
       "       'Netherlands_Curacao', 'Netherlands_Sint Maarten', 'Norway_NA',\n",
       "       'South Korea_NA', 'Spain_NA', 'Sweden_NA', 'Switzerland_NA',\n",
       "       'United Kingdom_NA', 'United Kingdom_Anguilla',\n",
       "       'United Kingdom_Bermuda', 'United Kingdom_British Virgin Islands',\n",
       "       'United Kingdom_Cayman Islands', 'United Kingdom_Channel Islands',\n",
       "       'United Kingdom_Falkland Islands (Malvinas)',\n",
       "       'United Kingdom_Gibraltar', 'United Kingdom_Isle of Man',\n",
       "       'United Kingdom_Montserrat',\n",
       "       'United Kingdom_Turks and Caicos Islands',\n",
       "       'United States of America_NA'], dtype=object)"
      ]
     },
     "execution_count": 15,
     "metadata": {},
     "output_type": "execute_result"
    }
   ],
   "source": [
    "df.Country_Region.unique()"
   ]
  },
  {
   "cell_type": "code",
   "execution_count": 16,
   "metadata": {},
   "outputs": [],
   "source": [
    "country = 'Germany_NA'\n",
    "df_selected_ciuntry = df.loc[(df['Country_Region'] ==country )]\n",
    "counts = df_selected_ciuntry['count'][df_selected_ciuntry.index[0]]\n",
    "time = df_selected_ciuntry['time'][df_selected_ciuntry.index[0]]\n",
    "new_pat = derivatives(counts)[0]"
   ]
  },
  {
   "cell_type": "code",
   "execution_count": 19,
   "metadata": {},
   "outputs": [
    {
     "data": {
      "text/plain": [
       "Text(0, 0.5, 'New Patients Count')"
      ]
     },
     "execution_count": 19,
     "metadata": {},
     "output_type": "execute_result"
    },
    {
     "data": {
      "image/png": "[encoded data removed]",
      "text/plain": [
       "<Figure size 432x288 with 1 Axes>"
      ]
     },
     "metadata": {
      "needs_background": "light"
     },
     "output_type": "display_data"
    }
   ],
   "source": [
    "plt.plot(time[1:],new_pat)\n",
    "plt.xlabel('Time')\n",
    "plt.ylabel('New Patients Count')"
   ]
  },
  {
   "cell_type": "code",
   "execution_count": 20,
   "metadata": {},
   "outputs": [
    {
     "name": "stderr",
     "output_type": "stream",
     "text": [
      "/usr/local/lib/python3.6/site-packages/ipykernel_launcher.py:3: RuntimeWarning: invalid value encountered in true_divide\n",
      "  This is separate from the ipykernel package so we can avoid doing imports until\n"
     ]
    }
   ],
   "source": [
    "smoothed_new_pat =  EMA(new_pat, 7, 3) \n",
    "new_pat_time = time[4:-3].astype(int)\n",
    "norm_residuals = (np.array(new_pat) - np.array(smoothed_new_pat))/np.array(smoothed_new_pat)\n",
    "\n",
    "\n",
    "norm_residuals[np.isnan(norm_residuals)] = 0\n",
    "\n",
    "norm_residuals_ext = norm_residuals[30:]"
   ]
  },
  {
   "cell_type": "code",
   "execution_count": 30,
   "metadata": {},
   "outputs": [],
   "source": [
    "tot_first_curve = np.sum(smoothed_new_pat)\n",
    "\n",
    "\n",
    "shift = smoothed_new_pat[-1] - smoothed_new_pat[30]\n",
    "\n",
    "tot_extended_curve = np.sum(smoothed_new_pat[30:]+shift)\n",
    "\n",
    "curve_norm = tot_first_curve/tot_extended_curve\n",
    "\n",
    "scalling_of_the_second_curve = 0.5\n",
    "\n",
    "\n",
    "\n",
    "extention = scalling_of_the_second_curve*curve_norm*(np.array(smoothed_new_pat[30:]))+shift\n"
   ]
  },
  {
   "cell_type": "code",
   "execution_count": 36,
   "metadata": {},
   "outputs": [
    {
     "data": {
      "text/plain": [
       "[<matplotlib.lines.Line2D at 0x12da01828>]"
      ]
     },
     "execution_count": 36,
     "metadata": {},
     "output_type": "execute_result"
    },
    {
     "data": {
      "image/png": "[encoded data removed]",
      "text/plain": [
       "<Figure size 432x288 with 1 Axes>"
      ]
     },
     "metadata": {
      "needs_background": "light"
     },
     "output_type": "display_data"
    }
   ],
   "source": [
    "plt.plot(time[41:],new_pat[40:])\n",
    "plt.plot(time[42:], smoothed_new_pat[41:])"
   ]
  },
  {
   "cell_type": "code",
   "execution_count": 44,
   "metadata": {},
   "outputs": [
    {
     "name": "stdout",
     "output_type": "stream",
     "text": [
      "[ 85  86  87  88  89  90  91  92  93  94  95  96  97  98  99 100 101 102\n",
      " 103 104 105 106 107 108 109 110 111 112 113 114 115 116 117 118 119 120\n",
      " 121 122 123 124 125 126 127 128 129 130 131 132 133 134 135]\n",
      "[  4   5   6   7   8   9  10  11  12  13  14  15  16  17  18  19  20  21\n",
      "  22  23  24  25  26  27  28  29  30  31  32  33  34  35  36  37  38  39\n",
      "  40  41  42  43  44  45  46  47  48  49  50  51  52  53  54  55  56  57\n",
      "  58  59  60  61  62  63  64  65  66  67  68  69  70  71  72  73  74  75\n",
      "  76  77  78  79  80  81  82  83  84  85  86  87  88  89  90  91  92  93\n",
      "  94  95  96  97  98  99 100 101 102 103 104 105 106 107 108 109 110 111\n",
      " 112 113 114 115 116 117 118 119 120 121 122 123 124 125 126 127 128 129\n",
      " 130 131 132 133 134 135]\n",
      "144\n",
      "132\n"
     ]
    }
   ],
   "source": [
    "time_temp = np.arange(int(new_pat_time[-1])+1,int(new_pat_time[-1])+1+len(new_pat_time[30:]),1)\n",
    "extended_time = np.concatenate((new_pat_time.astype(int), time_temp), axis=0)\n",
    "extended_curve =  np.concatenate((smoothed_new_pat,extention ), axis=0)\n",
    "\n",
    "print(time_temp)\n",
    "print(extended_time)\n",
    "print(len(extended_curve))\n",
    "print(len(extended_time))\n",
    "#plt.plot(extended_time,extended_curve)"
   ]
  },
  {
   "cell_type": "code",
   "execution_count": null,
   "metadata": {},
   "outputs": [],
   "source": [
    "first_deriv = derivatives(extended_curve)[0]\n",
    "time_for_first_deriv = extended_time[1:]\n",
    "plt.plot(time_for_first_deriv[3:-3],EMA(first_deriv,7))"
   ]
  },
  {
   "cell_type": "code",
   "execution_count": null,
   "metadata": {},
   "outputs": [],
   "source": [
    "SMA_First_Deriv = moving_average(first_deriv,7)\n",
    "SMA_First_Deriv_Time = time_for_first_deriv[3:-3]\n",
    "\n",
    "EMA_Fitst_Deriv = EMA(first_deriv,7,3)\n",
    "EMA_First_Deriv_Time = time_for_first_deriv\n",
    "\n",
    "\n",
    "second_deriv = derivatives(SMA_First_Deriv)[0]\n",
    "time_for_second_deriv = SMA_First_Deriv_Time[1:]\n",
    "\n",
    "SMA_Second_Deriv = moving_average(second_deriv,7)\n",
    "SMA_Second_Deriv_Time = time_for_second_deriv[3:-3]\n",
    "\n",
    "plt.plot(SMA_First_Deriv_Time,SMA_First_Deriv,'g-')\n",
    "plt.plot(EMA_First_Deriv_Time, EMA_Fitst_Deriv,'r-')\n"
   ]
  },
  {
   "cell_type": "code",
   "execution_count": null,
   "metadata": {},
   "outputs": [],
   "source": []
  },
  {
   "cell_type": "code",
   "execution_count": null,
   "metadata": {},
   "outputs": [],
   "source": [
    "fig, ax1 = plt.subplots()\n",
    "\n",
    "color = 'tab:red'\n",
    "ax1.set_xlabel('time (s)')\n",
    "ax1.set_ylabel('New Patients', color=color)\n",
    "ax1.plot(extended_time,extended_curve, color=color,label='New Patients')\n",
    "ax1.tick_params(axis='y', labelcolor=color)\n",
    "\n",
    "\n",
    "\n",
    "ax2 = ax1.twinx()  # instantiate a second axes that shares the same x-axis\n",
    "\n",
    "color = 'tab:blue'\n",
    "ax2.set_ylabel('First Deriv', color=color)  # we already handled the x-label with ax1\n",
    "ax2.plot(time_for_first_deriv[3:-3],SMA_First_Deriv, color=color,label='First Derivative')\n",
    "ax2.tick_params(axis='y', labelcolor=color)\n",
    "\n",
    "ax3 = ax1.twinx()\n",
    "ax3.set_ylabel('Second Deriv', color='green')  # we already handled the x-label with ax1\n",
    "ax3.plot(SMA_Second_Deriv_Time,SMA_Second_Deriv,color='green',label='Second Derivative')\n",
    "#ax3.tick_params(axis='y', labelcolor='green')\n",
    "\n",
    "#ax1.legend(loc='lower right')\n",
    "#ax2.legend(loc=1)\n",
    "#ax3.legend(loc='upper left')"
   ]
  },
  {
   "cell_type": "markdown",
   "metadata": {},
   "source": [
    "Auto Correlation"
   ]
  },
  {
   "cell_type": "code",
   "execution_count": 11,
   "metadata": {},
   "outputs": [
    {
     "ename": "NameError",
     "evalue": "name 'extended_curve' is not defined",
     "output_type": "error",
     "traceback": [
      "\u001b[0;31m---------------------------------------------------------------------------\u001b[0m",
      "\u001b[0;31mNameError\u001b[0m                                 Traceback (most recent call last)",
      "\u001b[0;32m<ipython-input-11-921434fbd4c4>\u001b[0m in \u001b[0;36m<module>\u001b[0;34m\u001b[0m\n\u001b[0;32m----> 1\u001b[0;31m \u001b[0mstats\u001b[0m\u001b[0;34m.\u001b[0m\u001b[0mpearsonr\u001b[0m\u001b[0;34m(\u001b[0m\u001b[0mextended_curve\u001b[0m\u001b[0;34m[\u001b[0m\u001b[0;36m4\u001b[0m\u001b[0;34m:\u001b[0m\u001b[0;34m-\u001b[0m\u001b[0;36m3\u001b[0m\u001b[0;34m]\u001b[0m\u001b[0;34m,\u001b[0m\u001b[0mSMA_First_Deriv\u001b[0m\u001b[0;34m)\u001b[0m\u001b[0;34m[\u001b[0m\u001b[0;36m0\u001b[0m\u001b[0;34m]\u001b[0m\u001b[0;34m\u001b[0m\u001b[0;34m\u001b[0m\u001b[0m\n\u001b[0m\u001b[1;32m      2\u001b[0m \u001b[0mExtended_Overlay_First_Der\u001b[0m \u001b[0;34m=\u001b[0m \u001b[0mextended_curve\u001b[0m\u001b[0;34m[\u001b[0m\u001b[0;36m4\u001b[0m\u001b[0;34m:\u001b[0m\u001b[0;34m-\u001b[0m\u001b[0;36m3\u001b[0m\u001b[0;34m]\u001b[0m\u001b[0;34m\u001b[0m\u001b[0;34m\u001b[0m\u001b[0m\n",
      "\u001b[0;31mNameError\u001b[0m: name 'extended_curve' is not defined"
     ]
    }
   ],
   "source": [
    "stats.pearsonr(extended_curve[4:-3],SMA_First_Deriv)[0]\n",
    "Extended_Overlay_First_Der = extended_curve[4:-3]"
   ]
  },
  {
   "cell_type": "code",
   "execution_count": null,
   "metadata": {},
   "outputs": [],
   "source": [
    "cross_corr = []\n",
    "for i in range(1,100):\n",
    "    cross_corr.append(stats.pearsonr(Extended_Overlay_First_Der[i:],SMA_First_Deriv[:-i])[0])\n",
    "    \n",
    "peaks, properties = find_peaks(cross_corr, height=0)\n",
    "plt.plot(peaks, np.array(cross_corr)[peaks], \"x\")\n",
    "plt.plot(cross_corr[:20])"
   ]
  },
  {
   "cell_type": "code",
   "execution_count": null,
   "metadata": {},
   "outputs": [],
   "source": [
    "fig, ax1 = plt.subplots()\n",
    "\n",
    "color = 'tab:red'\n",
    "ax1.set_xlabel('time (s)')\n",
    "ax1.set_ylabel('New Patients', color=color)\n",
    "ax1.plot(extended_time,extended_curve, color=color,label='New Patients')\n",
    "ax1.tick_params(axis='y', labelcolor=color)\n",
    "\n",
    "\n",
    "\n",
    "ax2 = ax1.twinx()  # instantiate a second axes that shares the same x-axis\n",
    "\n",
    "color = 'tab:blue'\n",
    "ax2.set_ylabel('First Deriv', color=color)  # we already handled the x-label with ax1\n",
    "ax2.plot(EMA_First_Deriv_Time, EMA_Fitst_Deriv, color=color,label='First Derivative')\n",
    "ax2.tick_params(axis='y', labelcolor=color)\n",
    "\n",
    "#ax3 = ax1.twinx()\n",
    "#ax3.set_ylabel('Second Deriv', color='green')  # we already handled the x-label with ax1\n",
    "#ax3.plot(SMA_Second_Deriv_Time,SMA_Second_Deriv,color='green',label='Second Derivative')\n",
    "#ax3.tick_params(axis='y', labelcolor='green')\n",
    "\n",
    "#ax1.legend(loc='lower right')\n",
    "#ax2.legend(loc=1)\n",
    "#ax3.legend(loc='upper left')"
   ]
  },
  {
   "cell_type": "code",
   "execution_count": 10,
   "metadata": {},
   "outputs": [
    {
     "ename": "NameError",
     "evalue": "name 'extended_time' is not defined",
     "output_type": "error",
     "traceback": [
      "\u001b[0;31m---------------------------------------------------------------------------\u001b[0m",
      "\u001b[0;31mNameError\u001b[0m                                 Traceback (most recent call last)",
      "\u001b[0;32m<ipython-input-10-0ce0e01bb801>\u001b[0m in \u001b[0;36m<module>\u001b[0;34m\u001b[0m\n\u001b[0;32m----> 1\u001b[0;31m \u001b[0mplt\u001b[0m\u001b[0;34m.\u001b[0m\u001b[0mplot\u001b[0m\u001b[0;34m(\u001b[0m\u001b[0mextended_time\u001b[0m\u001b[0;34m,\u001b[0m \u001b[0mextended_curve\u001b[0m\u001b[0;34m)\u001b[0m\u001b[0;34m\u001b[0m\u001b[0;34m\u001b[0m\u001b[0m\n\u001b[0m",
      "\u001b[0;31mNameError\u001b[0m: name 'extended_time' is not defined"
     ]
    }
   ],
   "source": []
  },
  {
   "cell_type": "code",
   "execution_count": null,
   "metadata": {},
   "outputs": [],
   "source": []
  }
 ],
 "metadata": {
  "kernelspec": {
   "display_name": "Python 3",
   "language": "python",
   "name": "python3"
  },
  "language_info": {
   "codemirror_mode": {
    "name": "ipython",
    "version": 3
   },
   "file_extension": ".py",
   "mimetype": "text/x-python",
   "name": "python",
   "nbconvert_exporter": "python",
   "pygments_lexer": "ipython3",
   "version": "3.6.9"
  }
 },
 "nbformat": 4,
 "nbformat_minor": 2
}
